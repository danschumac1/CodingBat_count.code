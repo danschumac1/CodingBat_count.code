{
 "cells": [
  {
   "cell_type": "markdown",
   "id": "a261c884",
   "metadata": {},
   "source": [
    "# String-2 > count_code"
   ]
  },
  {
   "cell_type": "markdown",
   "id": "21296bf1",
   "metadata": {},
   "source": [
    "\n",
    "Return the number of times that the string \"code\" appears anywhere in the given string, except we'll accept any letter for the 'd', so \"cope\" and \"cooe\" count.\n",
    "\n",
    "\n",
    "count_code('aaacodebbb') → 1\n",
    "\n",
    "count_code('codexxcode') → 2\n",
    "\n",
    "count_code('cozexxcope') → 2"
   ]
  },
  {
   "cell_type": "code",
   "execution_count": null,
   "id": "a596f7d6",
   "metadata": {},
   "outputs": [],
   "source": [
    "def count_code(str):\n",
    "  \n",
    "  il=0\n",
    "  count=0\n",
    "  \n",
    "  while il<=len(str)-1:\n",
    "    if str[il:il+2] == 'co' and str[il+3:il+4]=='e':\n",
    "      count+=1\n",
    "    il+=1\n",
    "    \n",
    "  return count"
   ]
  }
 ],
 "metadata": {
  "kernelspec": {
   "display_name": "Python 3 (ipykernel)",
   "language": "python",
   "name": "python3"
  },
  "language_info": {
   "codemirror_mode": {
    "name": "ipython",
    "version": 3
   },
   "file_extension": ".py",
   "mimetype": "text/x-python",
   "name": "python",
   "nbconvert_exporter": "python",
   "pygments_lexer": "ipython3",
   "version": "3.9.12"
  }
 },
 "nbformat": 4,
 "nbformat_minor": 5
}
